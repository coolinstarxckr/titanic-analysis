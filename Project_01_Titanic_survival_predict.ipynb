{
  "nbformat": 4,
  "nbformat_minor": 0,
  "metadata": {
    "colab": {
      "provenance": [],
      "authorship_tag": "ABX9TyNh44hOq1eCjDTAgBJzRScL",
      "include_colab_link": true
    },
    "kernelspec": {
      "name": "python3",
      "display_name": "Python 3"
    },
    "language_info": {
      "name": "python"
    }
  },
  "cells": [
    {
      "cell_type": "markdown",
      "metadata": {
        "id": "view-in-github",
        "colab_type": "text"
      },
      "source": [
        "<a href=\"https://colab.research.google.com/github/coolinstarxckr/titanic-analysis/blob/main/Project_01_Titanic_survival_predict.ipynb\" target=\"_parent\"><img src=\"https://colab.research.google.com/assets/colab-badge.svg\" alt=\"Open In Colab\"/></a>"
      ]
    },
    {
      "cell_type": "code",
      "execution_count": null,
      "metadata": {
        "id": "n-LdOvJtdIaW"
      },
      "outputs": [],
      "source": []
    },
    {
      "cell_type": "markdown",
      "source": [
        "專題實作 #01: 鐵達尼號存活預測"
      ],
      "metadata": {
        "id": "ivEqvgmFddDT"
      }
    },
    {
      "cell_type": "markdown",
      "source": [
        "Envivonment Setup"
      ],
      "metadata": {
        "id": "EJkXDhBRdkb9"
      }
    },
    {
      "cell_type": "code",
      "source": [
        "import pandas as pd\n",
        "import numpy as np"
      ],
      "metadata": {
        "id": "Wnhh7RNqduUu"
      },
      "execution_count": null,
      "outputs": []
    }
  ]
}